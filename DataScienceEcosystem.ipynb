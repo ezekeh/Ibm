{
 "cells": [
  {
   "cell_type": "markdown",
   "id": "ab34c13e-f743-4ea3-b2f4-c341e56eb84c",
   "metadata": {},
   "source": [
    "# Data Science Tools and Ecosystem\n"
   ]
  },
  {
   "cell_type": "markdown",
   "id": "0520e266-a30d-4f7a-9ed5-12b8e0bb4d88",
   "metadata": {},
   "source": [
    "In this notebook, Data Science Tools and Ecosystem are summarized."
   ]
  },
  {
   "cell_type": "markdown",
   "id": "289840dd-867a-4451-9179-93f7177f400a",
   "metadata": {},
   "source": [
    "Some of the popular languages that Data Scientists use are:\n",
    "1. Python\n",
    "2. R\n",
    "3. Scala\n"
   ]
  },
  {
   "cell_type": "markdown",
   "id": "430dd18d-8bf8-4070-8bb0-87b044c3e88c",
   "metadata": {},
   "source": [
    "Some of the commonly used libraries used by Data Science include:\n",
    "1. Pandas\n",
    "2. Matplotlib\n",
    "3. Plotly\n",
    "4. Scikit Learn\n",
    "5. Numpy"
   ]
  },
  {
   "cell_type": "markdown",
   "id": "1e8919e8-5b02-4fa7-af4d-d49a6b67e27d",
   "metadata": {},
   "source": [
    "|Data Science Tools|\n",
    "|--------------------|\n",
    "|Jupyter Notobook |\n",
    "|IBM watson studio |\n",
    "| Github |"
   ]
  },
  {
   "cell_type": "markdown",
   "id": "70ddbeed-0eec-4e7c-b0d7-84bb2ec9ea15",
   "metadata": {},
   "source": [
    "### Below are a few example of evaluating arihmetic expressions in python"
   ]
  },
  {
   "cell_type": "code",
   "execution_count": 19,
   "id": "9650d04d-72c8-446e-b535-456c114c7c78",
   "metadata": {},
   "outputs": [
    {
     "data": {
      "text/plain": [
       "17"
      ]
     },
     "execution_count": 19,
     "metadata": {},
     "output_type": "execute_result"
    }
   ],
   "source": [
    "# This is a sample arithmetic expression to multiply then add integers\n",
    "(3*4)+5"
   ]
  },
  {
   "cell_type": "code",
   "execution_count": 23,
   "id": "de8c10ec-cfee-4bfb-8ba2-f6d00abac3d8",
   "metadata": {},
   "outputs": [
    {
     "data": {
      "text/plain": [
       "3.3333333333333335"
      ]
     },
     "execution_count": 23,
     "metadata": {},
     "output_type": "execute_result"
    }
   ],
   "source": [
    "# This will convert 200 minutes to hours by dividing by 60\n",
    "200 / 60"
   ]
  },
  {
   "cell_type": "markdown",
   "id": "7eba6547-3ea2-464a-bf17-d2ba6096046d",
   "metadata": {},
   "source": [
    "**Objectives**:\n",
    "* List Popular languages\n",
    "* List Common libraries\n",
    "* Solved basic arithmetic problems\n",
    "* Listed some Data Science tools"
   ]
  },
  {
   "cell_type": "markdown",
   "id": "c42673ee-698c-40f1-9417-86e530dc9400",
   "metadata": {},
   "source": [
    "## Author\n",
    "Ezekiel"
   ]
  },
  {
   "cell_type": "code",
   "execution_count": null,
   "id": "42c653a0-fa40-4c6c-b461-fe9b5db6b30b",
   "metadata": {},
   "outputs": [],
   "source": []
  },
  {
   "cell_type": "code",
   "execution_count": null,
   "id": "c3368ba8-7550-4efd-913a-4e0636851478",
   "metadata": {},
   "outputs": [],
   "source": []
  }
 ],
 "metadata": {
  "kernelspec": {
   "display_name": "Python 3 (ipykernel)",
   "language": "python",
   "name": "python3"
  },
  "language_info": {
   "codemirror_mode": {
    "name": "ipython",
    "version": 3
   },
   "file_extension": ".py",
   "mimetype": "text/x-python",
   "name": "python",
   "nbconvert_exporter": "python",
   "pygments_lexer": "ipython3",
   "version": "3.12.7"
  }
 },
 "nbformat": 4,
 "nbformat_minor": 5
}
